{
 "cells": [
  {
   "cell_type": "code",
   "execution_count": null,
   "metadata": {},
   "outputs": [],
   "source": [
    "import tensorflow as tf\n",
    "import numpy as np\n",
    "import pandas as pd\n",
    "#training phase\n",
    "num_features = 10 \n",
    "input_shape = (num_features,)\n",
    "\n",
    "\n",
    "input_data = tf.keras.Input(shape=input_shape)\n",
    "\n",
    "hidden_layer = tf.keras.layers.Dense(units=64, activation=tf.nn.relu)(input_data)\n",
    "output_layer = tf.keras.layers.Dense(units=num_features, activation=None)(hidden_layer)\n",
    "\n",
    "model = tf.keras.Model(inputs=input_data, outputs=output_layer)\n",
    "\n",
    "model.compile(optimizer='adam', loss='mean_squared_error')\n",
    "\n",
    "num_samples = 1000\n",
    "input_data = np.random.randn(num_samples, num_features)\n",
    "output_data = input_data  \n",
    "\n",
    "model.fit(input_data, output_data, epochs=100, batch_size=64)\n"
   ]
  },
  {
   "cell_type": "code",
   "execution_count": null,
   "metadata": {},
   "outputs": [],
   "source": [
    "#save the model\n",
    "model.save('my_trained_model.keras')"
   ]
  },
  {
   "cell_type": "code",
   "execution_count": null,
   "metadata": {},
   "outputs": [],
   "source": [
    "#new data inserted here (testing phase)\n",
    "\n",
    "model = tf.keras.models.load_model('my_trained_model.keras')\n",
    "\n",
    "test_data = pd.read_csv('Testingdata01.csv')\n",
    "\n",
    "test_data_np = test_data.to_numpy()\n",
    "\n",
    "predictions = model.predict(test_data_np)\n",
    "\n",
    "reconstruction_errors = np.mean(np.square(test_data_np - predictions), axis=1)\n",
    "\n",
    "threshold = 0.1 \n",
    "\n",
    "anomalies_indices = np.where(reconstruction_errors > threshold)[0]\n",
    "print(\"Anomalies detected at indices:\", anomalies_indices)"
   ]
  }
 ],
 "metadata": {
  "kernelspec": {
   "display_name": "Python 3.10.6 64-bit",
   "language": "python",
   "name": "python3"
  },
  "language_info": {
   "name": "python",
   "version": "3.10.6"
  },
  "orig_nbformat": 4,
  "vscode": {
   "interpreter": {
    "hash": "1cb4cdeafc61a6c89e92f7723c86672e1ce8acb7f4f325f2b080f67667d6c07a"
   }
  }
 },
 "nbformat": 4,
 "nbformat_minor": 2
}
